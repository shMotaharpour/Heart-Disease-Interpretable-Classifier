{
 "cells": [
  {
   "cell_type": "markdown",
   "id": "71c913bf-c1ee-42a6-a880-4e18a15bd07a",
   "metadata": {},
   "source": [
    "# The flow of making simple models\n",
    "In this notebook, I made some basic models on simplified data.\n",
    "\n",
    "## Setups"
   ]
  },
  {
   "cell_type": "code",
   "execution_count": 1,
   "id": "06deebd4-097e-4618-bd41-266e0edac520",
   "metadata": {},
   "outputs": [],
   "source": [
    "from project_lib import LoadData"
   ]
  },
  {
   "cell_type": "code",
   "execution_count": 23,
   "id": "92c1a8d8-86fd-490d-bea8-a754dba6c6e8",
   "metadata": {},
   "outputs": [],
   "source": [
    "from project_lib import AnalysisCurvesDisplay"
   ]
  },
  {
   "cell_type": "code",
   "execution_count": 2,
   "id": "fd6c4540-98c6-4971-a7d8-8057ff6487f7",
   "metadata": {},
   "outputs": [],
   "source": [
    "dx, dy = LoadData().get_data_with_primary_features()"
   ]
  },
  {
   "cell_type": "markdown",
   "id": "b28e5ab3-fe7c-4922-bce2-08bc772f99bd",
   "metadata": {},
   "source": [
    "## Tree-based models\n",
    "Models like Random Forest, XGBoost, AdaBoost and etc."
   ]
  },
  {
   "cell_type": "code",
   "execution_count": 5,
   "id": "c7dc79c2-6ff1-405b-a6b5-b23a8f2db8e2",
   "metadata": {},
   "outputs": [],
   "source": [
    "from sklearn.ensemble import RandomForestClassifier, AdaBoostClassifier, HistGradientBoostingClassifier"
   ]
  },
  {
   "cell_type": "code",
   "execution_count": 6,
   "id": "32aa2578-cfa2-442c-a72f-f13db1ed0ab1",
   "metadata": {},
   "outputs": [],
   "source": [
    "from xgboost import XGBClassifier"
   ]
  },
  {
   "cell_type": "code",
   "execution_count": 7,
   "id": "2729b1ea-60eb-40a5-a9e6-7d15b4133840",
   "metadata": {},
   "outputs": [],
   "source": [
    "from sklearn.model_selection import train_test_split"
   ]
  },
  {
   "cell_type": "code",
   "execution_count": 13,
   "id": "15544534-5654-4a71-9e1b-ce5dea300307",
   "metadata": {},
   "outputs": [],
   "source": [
    "x_train, x_test, y_train, y_test = train_test_split(dx, dy, test_size=23, random_state=44)\n",
    "\n",
    "def train(model):\n",
    "    model.fit(x_train, y_train)\n",
    "    print('Train score:{:.3f}, Test score:{:.3f}'.format(\n",
    "        model.score(x_train, y_train), \n",
    "        model.score(x_test, y_test)\n",
    "    ))"
   ]
  },
  {
   "cell_type": "code",
   "execution_count": 15,
   "id": "dfd1b448-5005-4b23-a658-5beace8ad45e",
   "metadata": {},
   "outputs": [
    {
     "name": "stdout",
     "output_type": "stream",
     "text": [
      "Train score:0.864, Test score:0.826\n"
     ]
    }
   ],
   "source": [
    "rf = RandomForestClassifier(n_estimators=10, min_samples_leaf=3)\n",
    "train(rf)"
   ]
  },
  {
   "cell_type": "code",
   "execution_count": 16,
   "id": "a4e87a25-d897-4484-a8df-1617f813d197",
   "metadata": {},
   "outputs": [
    {
     "name": "stdout",
     "output_type": "stream",
     "text": [
      "Train score:0.832, Test score:0.826\n"
     ]
    }
   ],
   "source": [
    "ada = AdaBoostClassifier(n_estimators=10, random_state=3)\n",
    "train(ada)"
   ]
  },
  {
   "cell_type": "code",
   "execution_count": 22,
   "id": "113839e1-30b9-45d1-a28d-1691a51bae15",
   "metadata": {},
   "outputs": [
    {
     "name": "stdout",
     "output_type": "stream",
     "text": [
      "Train score:0.871, Test score:0.826\n"
     ]
    }
   ],
   "source": [
    "hist = HistGradientBoostingClassifier(categorical_features=dx.columns)\n",
    "train(hist)"
   ]
  },
  {
   "cell_type": "code",
   "execution_count": null,
   "id": "745b02e0-9932-45e0-a373-7d5fd303f058",
   "metadata": {},
   "outputs": [],
   "source": [
    "fig, axis = AnalysisCurvesDisplay.create_frames()"
   ]
  }
 ],
 "metadata": {
  "kernelspec": {
   "display_name": "Python 3 (ipykernel)",
   "language": "python",
   "name": "python3"
  },
  "language_info": {
   "codemirror_mode": {
    "name": "ipython",
    "version": 3
   },
   "file_extension": ".py",
   "mimetype": "text/x-python",
   "name": "python",
   "nbconvert_exporter": "python",
   "pygments_lexer": "ipython3",
   "version": "3.10.6"
  }
 },
 "nbformat": 4,
 "nbformat_minor": 5
}
